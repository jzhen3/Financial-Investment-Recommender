{
  "nbformat": 4,
  "nbformat_minor": 0,
  "metadata": {
    "colab": {
      "provenance": []
    },
    "kernelspec": {
      "name": "python3",
      "display_name": "Python 3"
    },
    "language_info": {
      "name": "python"
    }
  },
  "cells": [
    {
      "cell_type": "markdown",
      "source": [
        "Some popular financial news websites that can be considered for web scraping:\n",
        " - Yahoo Finance\n",
        " - Seeking Alpha\n",
        " - Market warch\n",
        " - Motley Fool\n",
        " - Market Watch\n",
        " - Investing\n",
        "\n",
        "Our scraped data should only include headline, label, date, company ticker"
      ],
      "metadata": {
        "id": "rLaFoMsFAdvd"
      }
    },
    {
      "cell_type": "markdown",
      "source": [
        "## Market Watch Scraper (3 scrapers)\n",
        "- Market Watch, Motely Fool, Benzinga\n",
        "\n",
        "### First level: Company ticker\n",
        "\n",
        "### Second Level: Date\n",
        "\n",
        "### Third Level: Headline, URL"
      ],
      "metadata": {
        "id": "8XUCZRn3AAs0"
      }
    },
    {
      "cell_type": "markdown",
      "source": [
        "Scrape news from the top 90 companies from the file resutlseval.xlsx"
      ],
      "metadata": {
        "id": "ORWy7Xgd4piE"
      }
    },
    {
      "cell_type": "code",
      "source": [
        "import pandas as pd\n",
        "df_eval = pd.read_excel(\"/content/drive/MyDrive/GTMSA/CSE 6242/FinSight Generator Project/resultseval.xlsx\",header=None)\n",
        "df_eval[:91]"
      ],
      "metadata": {
        "id": "WdU2U2Yf4t3R",
        "colab": {
          "base_uri": "https://localhost:8080/",
          "height": 1193
        },
        "outputId": "3471407e-8a85-477a-ee28-3150640f30d3"
      },
      "execution_count": null,
      "outputs": [
        {
          "output_type": "execute_result",
          "data": {
            "text/plain": [
              "         0      1         2         3                        4\n",
              "0   ticker  total  positive  negative  net positive percentage\n",
              "1      ida    907        57         0                 6.284454\n",
              "2       ew   1134        81        11                  6.17284\n",
              "3     ftnt   1476        95         5                 6.097561\n",
              "4     anss   1057        63         0                 5.960265\n",
              "..     ...    ...       ...       ...                      ...\n",
              "86     fls   2105        28         9                 0.902613\n",
              "87     dpz    666         6         0                 0.900901\n",
              "88    rezi   1461        21         8                 0.889802\n",
              "89    lcii   1138        10         0                 0.878735\n",
              "90     rnr   3946        62        29                  0.83629\n",
              "\n",
              "[91 rows x 5 columns]"
            ],
            "text/html": [
              "\n",
              "  <div id=\"df-cc4badb9-d699-4c47-87cd-ce65d5f821e0\">\n",
              "    <div class=\"colab-df-container\">\n",
              "      <div>\n",
              "<style scoped>\n",
              "    .dataframe tbody tr th:only-of-type {\n",
              "        vertical-align: middle;\n",
              "    }\n",
              "\n",
              "    .dataframe tbody tr th {\n",
              "        vertical-align: top;\n",
              "    }\n",
              "\n",
              "    .dataframe thead th {\n",
              "        text-align: right;\n",
              "    }\n",
              "</style>\n",
              "<table border=\"1\" class=\"dataframe\">\n",
              "  <thead>\n",
              "    <tr style=\"text-align: right;\">\n",
              "      <th></th>\n",
              "      <th>0</th>\n",
              "      <th>1</th>\n",
              "      <th>2</th>\n",
              "      <th>3</th>\n",
              "      <th>4</th>\n",
              "    </tr>\n",
              "  </thead>\n",
              "  <tbody>\n",
              "    <tr>\n",
              "      <th>0</th>\n",
              "      <td>ticker</td>\n",
              "      <td>total</td>\n",
              "      <td>positive</td>\n",
              "      <td>negative</td>\n",
              "      <td>net positive percentage</td>\n",
              "    </tr>\n",
              "    <tr>\n",
              "      <th>1</th>\n",
              "      <td>ida</td>\n",
              "      <td>907</td>\n",
              "      <td>57</td>\n",
              "      <td>0</td>\n",
              "      <td>6.284454</td>\n",
              "    </tr>\n",
              "    <tr>\n",
              "      <th>2</th>\n",
              "      <td>ew</td>\n",
              "      <td>1134</td>\n",
              "      <td>81</td>\n",
              "      <td>11</td>\n",
              "      <td>6.17284</td>\n",
              "    </tr>\n",
              "    <tr>\n",
              "      <th>3</th>\n",
              "      <td>ftnt</td>\n",
              "      <td>1476</td>\n",
              "      <td>95</td>\n",
              "      <td>5</td>\n",
              "      <td>6.097561</td>\n",
              "    </tr>\n",
              "    <tr>\n",
              "      <th>4</th>\n",
              "      <td>anss</td>\n",
              "      <td>1057</td>\n",
              "      <td>63</td>\n",
              "      <td>0</td>\n",
              "      <td>5.960265</td>\n",
              "    </tr>\n",
              "    <tr>\n",
              "      <th>...</th>\n",
              "      <td>...</td>\n",
              "      <td>...</td>\n",
              "      <td>...</td>\n",
              "      <td>...</td>\n",
              "      <td>...</td>\n",
              "    </tr>\n",
              "    <tr>\n",
              "      <th>86</th>\n",
              "      <td>fls</td>\n",
              "      <td>2105</td>\n",
              "      <td>28</td>\n",
              "      <td>9</td>\n",
              "      <td>0.902613</td>\n",
              "    </tr>\n",
              "    <tr>\n",
              "      <th>87</th>\n",
              "      <td>dpz</td>\n",
              "      <td>666</td>\n",
              "      <td>6</td>\n",
              "      <td>0</td>\n",
              "      <td>0.900901</td>\n",
              "    </tr>\n",
              "    <tr>\n",
              "      <th>88</th>\n",
              "      <td>rezi</td>\n",
              "      <td>1461</td>\n",
              "      <td>21</td>\n",
              "      <td>8</td>\n",
              "      <td>0.889802</td>\n",
              "    </tr>\n",
              "    <tr>\n",
              "      <th>89</th>\n",
              "      <td>lcii</td>\n",
              "      <td>1138</td>\n",
              "      <td>10</td>\n",
              "      <td>0</td>\n",
              "      <td>0.878735</td>\n",
              "    </tr>\n",
              "    <tr>\n",
              "      <th>90</th>\n",
              "      <td>rnr</td>\n",
              "      <td>3946</td>\n",
              "      <td>62</td>\n",
              "      <td>29</td>\n",
              "      <td>0.83629</td>\n",
              "    </tr>\n",
              "  </tbody>\n",
              "</table>\n",
              "<p>91 rows × 5 columns</p>\n",
              "</div>\n",
              "      <button class=\"colab-df-convert\" onclick=\"convertToInteractive('df-cc4badb9-d699-4c47-87cd-ce65d5f821e0')\"\n",
              "              title=\"Convert this dataframe to an interactive table.\"\n",
              "              style=\"display:none;\">\n",
              "        \n",
              "  <svg xmlns=\"http://www.w3.org/2000/svg\" height=\"24px\"viewBox=\"0 0 24 24\"\n",
              "       width=\"24px\">\n",
              "    <path d=\"M0 0h24v24H0V0z\" fill=\"none\"/>\n",
              "    <path d=\"M18.56 5.44l.94 2.06.94-2.06 2.06-.94-2.06-.94-.94-2.06-.94 2.06-2.06.94zm-11 1L8.5 8.5l.94-2.06 2.06-.94-2.06-.94L8.5 2.5l-.94 2.06-2.06.94zm10 10l.94 2.06.94-2.06 2.06-.94-2.06-.94-.94-2.06-.94 2.06-2.06.94z\"/><path d=\"M17.41 7.96l-1.37-1.37c-.4-.4-.92-.59-1.43-.59-.52 0-1.04.2-1.43.59L10.3 9.45l-7.72 7.72c-.78.78-.78 2.05 0 2.83L4 21.41c.39.39.9.59 1.41.59.51 0 1.02-.2 1.41-.59l7.78-7.78 2.81-2.81c.8-.78.8-2.07 0-2.86zM5.41 20L4 18.59l7.72-7.72 1.47 1.35L5.41 20z\"/>\n",
              "  </svg>\n",
              "      </button>\n",
              "      \n",
              "  <style>\n",
              "    .colab-df-container {\n",
              "      display:flex;\n",
              "      flex-wrap:wrap;\n",
              "      gap: 12px;\n",
              "    }\n",
              "\n",
              "    .colab-df-convert {\n",
              "      background-color: #E8F0FE;\n",
              "      border: none;\n",
              "      border-radius: 50%;\n",
              "      cursor: pointer;\n",
              "      display: none;\n",
              "      fill: #1967D2;\n",
              "      height: 32px;\n",
              "      padding: 0 0 0 0;\n",
              "      width: 32px;\n",
              "    }\n",
              "\n",
              "    .colab-df-convert:hover {\n",
              "      background-color: #E2EBFA;\n",
              "      box-shadow: 0px 1px 2px rgba(60, 64, 67, 0.3), 0px 1px 3px 1px rgba(60, 64, 67, 0.15);\n",
              "      fill: #174EA6;\n",
              "    }\n",
              "\n",
              "    [theme=dark] .colab-df-convert {\n",
              "      background-color: #3B4455;\n",
              "      fill: #D2E3FC;\n",
              "    }\n",
              "\n",
              "    [theme=dark] .colab-df-convert:hover {\n",
              "      background-color: #434B5C;\n",
              "      box-shadow: 0px 1px 3px 1px rgba(0, 0, 0, 0.15);\n",
              "      filter: drop-shadow(0px 1px 2px rgba(0, 0, 0, 0.3));\n",
              "      fill: #FFFFFF;\n",
              "    }\n",
              "  </style>\n",
              "\n",
              "      <script>\n",
              "        const buttonEl =\n",
              "          document.querySelector('#df-cc4badb9-d699-4c47-87cd-ce65d5f821e0 button.colab-df-convert');\n",
              "        buttonEl.style.display =\n",
              "          google.colab.kernel.accessAllowed ? 'block' : 'none';\n",
              "\n",
              "        async function convertToInteractive(key) {\n",
              "          const element = document.querySelector('#df-cc4badb9-d699-4c47-87cd-ce65d5f821e0');\n",
              "          const dataTable =\n",
              "            await google.colab.kernel.invokeFunction('convertToInteractive',\n",
              "                                                     [key], {});\n",
              "          if (!dataTable) return;\n",
              "\n",
              "          const docLinkHtml = 'Like what you see? Visit the ' +\n",
              "            '<a target=\"_blank\" href=https://colab.research.google.com/notebooks/data_table.ipynb>data table notebook</a>'\n",
              "            + ' to learn more about interactive tables.';\n",
              "          element.innerHTML = '';\n",
              "          dataTable['output_type'] = 'display_data';\n",
              "          await google.colab.output.renderOutput(dataTable, element);\n",
              "          const docLink = document.createElement('div');\n",
              "          docLink.innerHTML = docLinkHtml;\n",
              "          element.appendChild(docLink);\n",
              "        }\n",
              "      </script>\n",
              "    </div>\n",
              "  </div>\n",
              "  "
            ]
          },
          "metadata": {},
          "execution_count": 12
        }
      ]
    },
    {
      "cell_type": "code",
      "source": [
        "df_eval.rename(columns={0: \"ticker\"}, inplace=True)\n",
        "us_active_symbols = list(df_eval['ticker'][1:])"
      ],
      "metadata": {
        "id": "XVgMvKqE5s1d"
      },
      "execution_count": null,
      "outputs": []
    },
    {
      "cell_type": "code",
      "source": [
        "import re\n",
        "import csv\n",
        "import time\n",
        "import requests\n",
        "from bs4 import BeautifulSoup\n",
        "from datetime import datetime, timedelta\n",
        "from pytz import timezone\n",
        "import pandas as pd"
      ],
      "metadata": {
        "id": "F-698k8l6I6Q"
      },
      "execution_count": null,
      "outputs": []
    },
    {
      "cell_type": "code",
      "source": [
        "def matches_pattern(url):\n",
        "    # Define the pattern to match\n",
        "    pattern = r'^https://www\\.marketwatch\\.com/investing/stock/[^/]+?mod=mw_quote_news$'\n",
        "    return bool(re.match(pattern, url))"
      ],
      "metadata": {
        "id": "sB8YzXwH6axH"
      },
      "execution_count": null,
      "outputs": []
    },
    {
      "cell_type": "code",
      "source": [
        "def parse_date(date_string):\n",
        "    date_string = date_string.strip().replace(\"Published: \", \"\").replace('First ','').replace(\" at \", \" \").replace(' ET', '').replace(\".\", \"\").replace(\"\\n\", \"\")\n",
        "    try:\n",
        "        # parse the date string with the full month name\n",
        "        return datetime.strptime(date_string, \"%B %d, %Y %I:%M %p\")\n",
        "    except ValueError:\n",
        "        try:\n",
        "            # parse with the abbreviated month name\n",
        "            return datetime.strptime(date_string, \"%b %d, %Y %I:%M %p\")\n",
        "        except:\n",
        "            return ''"
      ],
      "metadata": {
        "id": "QCtjQE9u6dMg"
      },
      "execution_count": null,
      "outputs": []
    },
    {
      "cell_type": "markdown",
      "source": [
        "market watch scraper"
      ],
      "metadata": {
        "id": "ObpEA44ECy_f"
      }
    },
    {
      "cell_type": "code",
      "source": [
        "def mW_getElements(url):\n",
        "    # Find the title, content, and date tags\n",
        "    response = requests.get(url)\n",
        "    soup = BeautifulSoup(response.text, 'html.parser')\n",
        "    title_tag = ''\n",
        "    try:\n",
        "      title_tag = soup.find('h1', class_='article__headline').text.strip()\n",
        "    except AttributeError:\n",
        "      title_tag = ''\n",
        "    date_tag = ''\n",
        "    try:\n",
        "      date_string = soup.find('time', class_='timestamp timestamp--pub').text.strip()\n",
        "      date_tag = parse_date(date_string)\n",
        "    except AttributeError:\n",
        "      try:\n",
        "        date_string = soup.find('time', class_='timestamp timestamp--update').text.strip()\n",
        "        date_tag = parse_date(date_string)\n",
        "      except AttributeError:\n",
        "        date_tag = ''\n",
        "    # try:\n",
        "    #   content_tag = soup.find('div', class_='article__content').text.strip().replace(\"\\t\", \"\").replace(\"\\n\", \"\")\n",
        "    #   content_tag = re.sub(r'\\s+', ' ', content_tag)\n",
        "    # except:\n",
        "    #   content_tag = ''\n",
        "    url_tag = url\n",
        "    cols = [title_tag, date_tag, url_tag]\n",
        "    col_names = ['Headline', 'Date', 'URL']\n",
        "    return dict(zip(col_names, cols))"
      ],
      "metadata": {
        "id": "of7ziPXJ6enc"
      },
      "execution_count": null,
      "outputs": []
    },
    {
      "cell_type": "markdown",
      "source": [
        "Motely Fool scraper"
      ],
      "metadata": {
        "id": "kf1GkcXVC1i-"
      }
    },
    {
      "cell_type": "code",
      "source": [
        "def fool_getElements(url):\n",
        "  # Find the title, content, and date tags\n",
        "  response = requests.get(url)\n",
        "  soup = BeautifulSoup(response.text, 'html.parser')\n",
        "  title_tag = ''\n",
        "  try:\n",
        "    title_tag = soup.find('h1', class_='font-medium text-gray-1100 leading-42 md:text-h1').text.strip()\n",
        "  except:\n",
        "    title_tag = ''\n",
        "  date_tag2 = ''\n",
        "  try:\n",
        "    date_string = soup.find('div', class_='text-lg font-medium text-gray-800 my-24px').text.strip()\n",
        "    date_tag = date_string.split(\"\\n–\\n\")[1].strip().replace(\" at \", \" \").replace(\"Updated \", \"\")\n",
        "    date_tag2 = datetime.strptime(date_tag, \"%b %d, %Y %I:%M%p\")\n",
        "  except IndexError:\n",
        "    pass\n",
        "  # try:\n",
        "  #   content_tag = soup.find('div', class_='tailwind-article-body').text.strip().replace(\"%\\xa0\", \"\").replace(\"\\n\", \"\")\n",
        "  # except:\n",
        "  #   content_tag = ''\n",
        "  url_tag = url\n",
        "  cols = [title_tag, date_tag2, url_tag]\n",
        "  col_names = ['Headline', 'Date', 'URL']\n",
        "  return dict(zip(col_names, cols))"
      ],
      "metadata": {
        "id": "-dWTZGWG6gg7"
      },
      "execution_count": null,
      "outputs": []
    },
    {
      "cell_type": "markdown",
      "source": [
        "Collect and aggregate the articles for the same publicly traded companies"
      ],
      "metadata": {
        "id": "hHfbDKzsDURJ"
      }
    },
    {
      "cell_type": "code",
      "source": [
        "def web_scraper(ticker: str) -> pd.DataFrame:\n",
        "\n",
        "  url_mp = 'https://www.marketwatch.com/investing/stock/{}?mod=search_symbol'.format(ticker)\n",
        "  response_mp = requests.get(url_mp)\n",
        "  soup = BeautifulSoup(response_mp.text)\n",
        "  anchor_tags = soup.find_all(lambda tag: tag.name == 'a' and\n",
        "                                    tag.get('class') == ['link'])\n",
        "\n",
        "  # Collect the links and count them\n",
        "  links = []\n",
        "  for tag in anchor_tags:\n",
        "      link = tag.get('href')\n",
        "      if link and link not in links:\n",
        "          links.append(link)\n",
        "  links = [l for l in links if l.endswith(\"quote_news\")]\n",
        "\n",
        "  #exclude home page'https://www.marketwatch.com/investing/stock/{}?mod=mw_quote_news'\n",
        "  page = 'https://www.marketwatch.com/investing/stock/{}?mod=mw_quote_news'.format(ticker.lower())\n",
        "  elements = [mW_getElements(url) for url in links if 'marketwatch.com/' in url and url!=page and '/livecoverage/' not in url and matches_pattern(url)== False]\n",
        "  elements2 = [fool_getElements(url) for url in links if 'fool.com/' in url]\n",
        "  result = elements+ elements2\n",
        "  df = pd.DataFrame(result)\n",
        "\n",
        "  return df"
      ],
      "metadata": {
        "id": "N4uA0GKD6ieE"
      },
      "execution_count": null,
      "outputs": []
    },
    {
      "cell_type": "code",
      "source": [
        "def result(ticker):\n",
        "  table = pd.DataFrame(columns=['Headline', 'Date', 'URL','Company'])\n",
        "  df = web_scraper(ticker)\n",
        "  df['Company'] = ticker\n",
        "  table = pd.concat([table, df], ignore_index=True)\n",
        "  return table"
      ],
      "metadata": {
        "id": "xijh1GtO6kQM"
      },
      "execution_count": null,
      "outputs": []
    },
    {
      "cell_type": "code",
      "source": [
        "for i in range(len(us_active_symbols[50:91])):\n",
        "  ticker = us_active_symbols[50+i]\n",
        "  final = result(ticker)\n",
        "  final.to_csv('US_Traded{}.csv'.format(ticker))"
      ],
      "metadata": {
        "colab": {
          "base_uri": "https://localhost:8080/"
        },
        "id": "gEEv7H3Z6mml",
        "outputId": "453b43b0-2930-4d2f-b173-0365e911aa81"
      },
      "execution_count": null,
      "outputs": [
        {
          "output_type": "stream",
          "name": "stderr",
          "text": [
            "<ipython-input-8-16c1ab273cc8>:22: FutureWarning: Inferring datetime64[ns] from data containing strings is deprecated and will be removed in a future version. To retain the old behavior explicitly pass Series(data, dtype=datetime64[ns])\n",
            "  df = pd.DataFrame(result)\n",
            "<ipython-input-8-16c1ab273cc8>:22: FutureWarning: Inferring datetime64[ns] from data containing strings is deprecated and will be removed in a future version. To retain the old behavior explicitly pass Series(data, dtype=datetime64[ns])\n",
            "  df = pd.DataFrame(result)\n",
            "<ipython-input-8-16c1ab273cc8>:22: FutureWarning: Inferring datetime64[ns] from data containing strings is deprecated and will be removed in a future version. To retain the old behavior explicitly pass Series(data, dtype=datetime64[ns])\n",
            "  df = pd.DataFrame(result)\n",
            "<ipython-input-8-16c1ab273cc8>:22: FutureWarning: Inferring datetime64[ns] from data containing strings is deprecated and will be removed in a future version. To retain the old behavior explicitly pass Series(data, dtype=datetime64[ns])\n",
            "  df = pd.DataFrame(result)\n",
            "<ipython-input-8-16c1ab273cc8>:22: FutureWarning: Inferring datetime64[ns] from data containing strings is deprecated and will be removed in a future version. To retain the old behavior explicitly pass Series(data, dtype=datetime64[ns])\n",
            "  df = pd.DataFrame(result)\n",
            "<ipython-input-8-16c1ab273cc8>:22: FutureWarning: Inferring datetime64[ns] from data containing strings is deprecated and will be removed in a future version. To retain the old behavior explicitly pass Series(data, dtype=datetime64[ns])\n",
            "  df = pd.DataFrame(result)\n",
            "<ipython-input-8-16c1ab273cc8>:22: FutureWarning: Inferring datetime64[ns] from data containing strings is deprecated and will be removed in a future version. To retain the old behavior explicitly pass Series(data, dtype=datetime64[ns])\n",
            "  df = pd.DataFrame(result)\n",
            "<ipython-input-8-16c1ab273cc8>:22: FutureWarning: Inferring datetime64[ns] from data containing strings is deprecated and will be removed in a future version. To retain the old behavior explicitly pass Series(data, dtype=datetime64[ns])\n",
            "  df = pd.DataFrame(result)\n",
            "<ipython-input-8-16c1ab273cc8>:22: FutureWarning: Inferring datetime64[ns] from data containing strings is deprecated and will be removed in a future version. To retain the old behavior explicitly pass Series(data, dtype=datetime64[ns])\n",
            "  df = pd.DataFrame(result)\n",
            "<ipython-input-8-16c1ab273cc8>:22: FutureWarning: Inferring datetime64[ns] from data containing strings is deprecated and will be removed in a future version. To retain the old behavior explicitly pass Series(data, dtype=datetime64[ns])\n",
            "  df = pd.DataFrame(result)\n",
            "<ipython-input-8-16c1ab273cc8>:22: FutureWarning: Inferring datetime64[ns] from data containing strings is deprecated and will be removed in a future version. To retain the old behavior explicitly pass Series(data, dtype=datetime64[ns])\n",
            "  df = pd.DataFrame(result)\n",
            "<ipython-input-8-16c1ab273cc8>:22: FutureWarning: Inferring datetime64[ns] from data containing strings is deprecated and will be removed in a future version. To retain the old behavior explicitly pass Series(data, dtype=datetime64[ns])\n",
            "  df = pd.DataFrame(result)\n",
            "<ipython-input-8-16c1ab273cc8>:22: FutureWarning: Inferring datetime64[ns] from data containing strings is deprecated and will be removed in a future version. To retain the old behavior explicitly pass Series(data, dtype=datetime64[ns])\n",
            "  df = pd.DataFrame(result)\n",
            "<ipython-input-8-16c1ab273cc8>:22: FutureWarning: Inferring datetime64[ns] from data containing strings is deprecated and will be removed in a future version. To retain the old behavior explicitly pass Series(data, dtype=datetime64[ns])\n",
            "  df = pd.DataFrame(result)\n",
            "<ipython-input-8-16c1ab273cc8>:22: FutureWarning: Inferring datetime64[ns] from data containing strings is deprecated and will be removed in a future version. To retain the old behavior explicitly pass Series(data, dtype=datetime64[ns])\n",
            "  df = pd.DataFrame(result)\n",
            "<ipython-input-8-16c1ab273cc8>:22: FutureWarning: Inferring datetime64[ns] from data containing strings is deprecated and will be removed in a future version. To retain the old behavior explicitly pass Series(data, dtype=datetime64[ns])\n",
            "  df = pd.DataFrame(result)\n",
            "<ipython-input-8-16c1ab273cc8>:22: FutureWarning: Inferring datetime64[ns] from data containing strings is deprecated and will be removed in a future version. To retain the old behavior explicitly pass Series(data, dtype=datetime64[ns])\n",
            "  df = pd.DataFrame(result)\n"
          ]
        }
      ]
    },
    {
      "cell_type": "code",
      "source": [
        "import re\n",
        "\n",
        "def benz_scraper(url):\n",
        "  # Find the title, content, and date tags\n",
        "  response = requests.get(url)\n",
        "  soup = BeautifulSoup(response.text, 'html.parser')\n",
        "  title_tag = ''\n",
        "  try:\n",
        "    title_tag = soup.find('h1', class_='sc-fKVqWL bmZDfz mb-4 layout-title').text.strip()\n",
        "  except:\n",
        "    title_tag = ''\n",
        "  date_tag2 = ''\n",
        "  try:\n",
        "    pattern = r'([A-Za-z]+\\s\\d{1,2},\\s\\d{4}\\s\\d{1,2}:\\d{2}\\s(?:AM|PM))'\n",
        "    date_string = soup.find('div', class_='article-date-wrap').text.strip()\n",
        "    match = re.search(pattern, date_string)\n",
        "    if match:\n",
        "      date_tag2 = match.group(1)\n",
        "      date_tag2 = datetime.strptime(date_tag2, \"%B %d, %Y %I:%M %p\")\n",
        "    else:\n",
        "      date_tag2 = ''\n",
        "  except IndexError:\n",
        "    pass\n",
        "  url_tag = url\n",
        "  cols = [title_tag, date_tag2, url_tag]\n",
        "  col_names = ['Headline', 'Date', 'URL']\n",
        "  return dict(zip(col_names, cols))"
      ],
      "metadata": {
        "id": "ylXOSCiAQYbh"
      },
      "execution_count": null,
      "outputs": []
    },
    {
      "cell_type": "code",
      "source": [
        "def benzinga_collect(ticker):\n",
        "  url_mp = 'https://www.marketwatch.com/investing/stock/{}?mod=search_symbol'.format(ticker)\n",
        "  response_mp = requests.get(url_mp)\n",
        "  soup = BeautifulSoup(response_mp.text)\n",
        "  anchor_tags = soup.find_all('a', class_='link')\n",
        "  links = []\n",
        "  ends_str = 'utm_campaign=partner_feed&utm_source=MarketWatch&utm_medium=partner_feed&utm_content=site&mod=mw_quote_news'\n",
        "\n",
        "  for tag in anchor_tags:\n",
        "      link = tag.get('href')\n",
        "      if link and link not in links:\n",
        "          links.append(link)\n",
        "\n",
        "  links = [l for l in links if l.endswith(ends_str)]\n",
        "  articles = [benz_scraper(url) for url in links if 'benzinga.com/' in url]\n",
        "  df = pd.DataFrame(articles)\n",
        "  return df"
      ],
      "metadata": {
        "id": "devCPELAVSpR"
      },
      "execution_count": null,
      "outputs": []
    },
    {
      "cell_type": "code",
      "source": [
        "def result_benz(ticker):\n",
        "  table = pd.DataFrame(columns=['Headline', 'Date', 'URL','Company'])\n",
        "  df = benzinga_collect(ticker)\n",
        "  df['Company'] = ticker\n",
        "  table = pd.concat([table, df], ignore_index=True)\n",
        "  return table"
      ],
      "metadata": {
        "id": "oJwStTOQba0O"
      },
      "execution_count": null,
      "outputs": []
    },
    {
      "cell_type": "markdown",
      "source": [
        "Novanta only have articles from benzinga.com"
      ],
      "metadata": {
        "id": "tIS0hkMeehw9"
      }
    },
    {
      "cell_type": "code",
      "source": [
        "result_benz('novt')"
      ],
      "metadata": {
        "colab": {
          "base_uri": "https://localhost:8080/",
          "height": 300
        },
        "id": "B-3cDsN4bPHB",
        "outputId": "fa014cbb-f080-4417-ea1c-76bfd7f05ec3"
      },
      "execution_count": null,
      "outputs": [
        {
          "output_type": "execute_result",
          "data": {
            "text/plain": [
              "                                            Headline                Date  \\\n",
              "0  Roku Has 26% Of Cash With SVB Financial, Depos... 2023-03-11 14:27:00   \n",
              "1      Novanta's Return On Capital Employed Insights 2023-03-07 09:46:00   \n",
              "2  Novanta General Counsel Awarded $510K Worth of... 2023-03-01 10:01:00   \n",
              "3               Earnings Scheduled For March 1, 2023 2023-03-01 06:59:00   \n",
              "4      Novanta's Return On Capital Employed Overview 2022-12-06 09:46:00   \n",
              "5      Novanta's Return on Invested Capital Insights 2022-09-02 10:23:00   \n",
              "6                      Novanta: Q2 Earnings Insights 2022-08-09 07:32:00   \n",
              "7  HCA Healthcare, Boston Beer Company And Some O... 2022-07-25 06:15:00   \n",
              "\n",
              "                                                 URL Company  \n",
              "0  https://www.benzinga.com/news/23/03/31309113/r...    novt  \n",
              "1  https://www.benzinga.com/news/earnings/23/03/3...    novt  \n",
              "2  https://www.benzinga.com/news/23/03/31126729/n...    novt  \n",
              "3  https://www.benzinga.com/news/earnings/23/03/3...    novt  \n",
              "4  https://www.benzinga.com/news/earnings/22/12/2...    novt  \n",
              "5  https://www.benzinga.com/news/earnings/22/09/2...    novt  \n",
              "6  https://www.benzinga.com/news/earnings/22/08/2...    novt  \n",
              "7  https://www.benzinga.com/news/22/07/28183264/h...    novt  "
            ],
            "text/html": [
              "\n",
              "  <div id=\"df-e112b90c-731f-4227-8d09-f07060353354\">\n",
              "    <div class=\"colab-df-container\">\n",
              "      <div>\n",
              "<style scoped>\n",
              "    .dataframe tbody tr th:only-of-type {\n",
              "        vertical-align: middle;\n",
              "    }\n",
              "\n",
              "    .dataframe tbody tr th {\n",
              "        vertical-align: top;\n",
              "    }\n",
              "\n",
              "    .dataframe thead th {\n",
              "        text-align: right;\n",
              "    }\n",
              "</style>\n",
              "<table border=\"1\" class=\"dataframe\">\n",
              "  <thead>\n",
              "    <tr style=\"text-align: right;\">\n",
              "      <th></th>\n",
              "      <th>Headline</th>\n",
              "      <th>Date</th>\n",
              "      <th>URL</th>\n",
              "      <th>Company</th>\n",
              "    </tr>\n",
              "  </thead>\n",
              "  <tbody>\n",
              "    <tr>\n",
              "      <th>0</th>\n",
              "      <td>Roku Has 26% Of Cash With SVB Financial, Depos...</td>\n",
              "      <td>2023-03-11 14:27:00</td>\n",
              "      <td>https://www.benzinga.com/news/23/03/31309113/r...</td>\n",
              "      <td>novt</td>\n",
              "    </tr>\n",
              "    <tr>\n",
              "      <th>1</th>\n",
              "      <td>Novanta's Return On Capital Employed Insights</td>\n",
              "      <td>2023-03-07 09:46:00</td>\n",
              "      <td>https://www.benzinga.com/news/earnings/23/03/3...</td>\n",
              "      <td>novt</td>\n",
              "    </tr>\n",
              "    <tr>\n",
              "      <th>2</th>\n",
              "      <td>Novanta General Counsel Awarded $510K Worth of...</td>\n",
              "      <td>2023-03-01 10:01:00</td>\n",
              "      <td>https://www.benzinga.com/news/23/03/31126729/n...</td>\n",
              "      <td>novt</td>\n",
              "    </tr>\n",
              "    <tr>\n",
              "      <th>3</th>\n",
              "      <td>Earnings Scheduled For March 1, 2023</td>\n",
              "      <td>2023-03-01 06:59:00</td>\n",
              "      <td>https://www.benzinga.com/news/earnings/23/03/3...</td>\n",
              "      <td>novt</td>\n",
              "    </tr>\n",
              "    <tr>\n",
              "      <th>4</th>\n",
              "      <td>Novanta's Return On Capital Employed Overview</td>\n",
              "      <td>2022-12-06 09:46:00</td>\n",
              "      <td>https://www.benzinga.com/news/earnings/22/12/2...</td>\n",
              "      <td>novt</td>\n",
              "    </tr>\n",
              "    <tr>\n",
              "      <th>5</th>\n",
              "      <td>Novanta's Return on Invested Capital Insights</td>\n",
              "      <td>2022-09-02 10:23:00</td>\n",
              "      <td>https://www.benzinga.com/news/earnings/22/09/2...</td>\n",
              "      <td>novt</td>\n",
              "    </tr>\n",
              "    <tr>\n",
              "      <th>6</th>\n",
              "      <td>Novanta: Q2 Earnings Insights</td>\n",
              "      <td>2022-08-09 07:32:00</td>\n",
              "      <td>https://www.benzinga.com/news/earnings/22/08/2...</td>\n",
              "      <td>novt</td>\n",
              "    </tr>\n",
              "    <tr>\n",
              "      <th>7</th>\n",
              "      <td>HCA Healthcare, Boston Beer Company And Some O...</td>\n",
              "      <td>2022-07-25 06:15:00</td>\n",
              "      <td>https://www.benzinga.com/news/22/07/28183264/h...</td>\n",
              "      <td>novt</td>\n",
              "    </tr>\n",
              "  </tbody>\n",
              "</table>\n",
              "</div>\n",
              "      <button class=\"colab-df-convert\" onclick=\"convertToInteractive('df-e112b90c-731f-4227-8d09-f07060353354')\"\n",
              "              title=\"Convert this dataframe to an interactive table.\"\n",
              "              style=\"display:none;\">\n",
              "        \n",
              "  <svg xmlns=\"http://www.w3.org/2000/svg\" height=\"24px\"viewBox=\"0 0 24 24\"\n",
              "       width=\"24px\">\n",
              "    <path d=\"M0 0h24v24H0V0z\" fill=\"none\"/>\n",
              "    <path d=\"M18.56 5.44l.94 2.06.94-2.06 2.06-.94-2.06-.94-.94-2.06-.94 2.06-2.06.94zm-11 1L8.5 8.5l.94-2.06 2.06-.94-2.06-.94L8.5 2.5l-.94 2.06-2.06.94zm10 10l.94 2.06.94-2.06 2.06-.94-2.06-.94-.94-2.06-.94 2.06-2.06.94z\"/><path d=\"M17.41 7.96l-1.37-1.37c-.4-.4-.92-.59-1.43-.59-.52 0-1.04.2-1.43.59L10.3 9.45l-7.72 7.72c-.78.78-.78 2.05 0 2.83L4 21.41c.39.39.9.59 1.41.59.51 0 1.02-.2 1.41-.59l7.78-7.78 2.81-2.81c.8-.78.8-2.07 0-2.86zM5.41 20L4 18.59l7.72-7.72 1.47 1.35L5.41 20z\"/>\n",
              "  </svg>\n",
              "      </button>\n",
              "      \n",
              "  <style>\n",
              "    .colab-df-container {\n",
              "      display:flex;\n",
              "      flex-wrap:wrap;\n",
              "      gap: 12px;\n",
              "    }\n",
              "\n",
              "    .colab-df-convert {\n",
              "      background-color: #E8F0FE;\n",
              "      border: none;\n",
              "      border-radius: 50%;\n",
              "      cursor: pointer;\n",
              "      display: none;\n",
              "      fill: #1967D2;\n",
              "      height: 32px;\n",
              "      padding: 0 0 0 0;\n",
              "      width: 32px;\n",
              "    }\n",
              "\n",
              "    .colab-df-convert:hover {\n",
              "      background-color: #E2EBFA;\n",
              "      box-shadow: 0px 1px 2px rgba(60, 64, 67, 0.3), 0px 1px 3px 1px rgba(60, 64, 67, 0.15);\n",
              "      fill: #174EA6;\n",
              "    }\n",
              "\n",
              "    [theme=dark] .colab-df-convert {\n",
              "      background-color: #3B4455;\n",
              "      fill: #D2E3FC;\n",
              "    }\n",
              "\n",
              "    [theme=dark] .colab-df-convert:hover {\n",
              "      background-color: #434B5C;\n",
              "      box-shadow: 0px 1px 3px 1px rgba(0, 0, 0, 0.15);\n",
              "      filter: drop-shadow(0px 1px 2px rgba(0, 0, 0, 0.3));\n",
              "      fill: #FFFFFF;\n",
              "    }\n",
              "  </style>\n",
              "\n",
              "      <script>\n",
              "        const buttonEl =\n",
              "          document.querySelector('#df-e112b90c-731f-4227-8d09-f07060353354 button.colab-df-convert');\n",
              "        buttonEl.style.display =\n",
              "          google.colab.kernel.accessAllowed ? 'block' : 'none';\n",
              "\n",
              "        async function convertToInteractive(key) {\n",
              "          const element = document.querySelector('#df-e112b90c-731f-4227-8d09-f07060353354');\n",
              "          const dataTable =\n",
              "            await google.colab.kernel.invokeFunction('convertToInteractive',\n",
              "                                                     [key], {});\n",
              "          if (!dataTable) return;\n",
              "\n",
              "          const docLinkHtml = 'Like what you see? Visit the ' +\n",
              "            '<a target=\"_blank\" href=https://colab.research.google.com/notebooks/data_table.ipynb>data table notebook</a>'\n",
              "            + ' to learn more about interactive tables.';\n",
              "          element.innerHTML = '';\n",
              "          dataTable['output_type'] = 'display_data';\n",
              "          await google.colab.output.renderOutput(dataTable, element);\n",
              "          const docLink = document.createElement('div');\n",
              "          docLink.innerHTML = docLinkHtml;\n",
              "          element.appendChild(docLink);\n",
              "        }\n",
              "      </script>\n",
              "    </div>\n",
              "  </div>\n",
              "  "
            ]
          },
          "metadata": {},
          "execution_count": 10
        }
      ]
    },
    {
      "cell_type": "code",
      "source": [
        "result_benz('novt').to_csv('novt.csv')"
      ],
      "metadata": {
        "id": "2d_V6VfbfttZ"
      },
      "execution_count": null,
      "outputs": []
    },
    {
      "cell_type": "markdown",
      "source": [
        "For the company SpareBank 1 SMN, there is no related news on MarketWatch."
      ],
      "metadata": {
        "id": "wIdMEQcqfcHN"
      }
    },
    {
      "cell_type": "code",
      "source": [
        "benzinga_collect('sji')"
      ],
      "metadata": {
        "colab": {
          "base_uri": "https://localhost:8080/",
          "height": 49
        },
        "id": "S3Q6S0Fwe62s",
        "outputId": "8875f5e9-ea92-40d8-d0f5-0539be6529dc"
      },
      "execution_count": null,
      "outputs": [
        {
          "output_type": "execute_result",
          "data": {
            "text/plain": [
              "Empty DataFrame\n",
              "Columns: []\n",
              "Index: []"
            ],
            "text/html": [
              "\n",
              "  <div id=\"df-bccbd006-b3bb-46bf-a56e-1c110a8d9dbf\">\n",
              "    <div class=\"colab-df-container\">\n",
              "      <div>\n",
              "<style scoped>\n",
              "    .dataframe tbody tr th:only-of-type {\n",
              "        vertical-align: middle;\n",
              "    }\n",
              "\n",
              "    .dataframe tbody tr th {\n",
              "        vertical-align: top;\n",
              "    }\n",
              "\n",
              "    .dataframe thead th {\n",
              "        text-align: right;\n",
              "    }\n",
              "</style>\n",
              "<table border=\"1\" class=\"dataframe\">\n",
              "  <thead>\n",
              "    <tr style=\"text-align: right;\">\n",
              "      <th></th>\n",
              "    </tr>\n",
              "  </thead>\n",
              "  <tbody>\n",
              "  </tbody>\n",
              "</table>\n",
              "</div>\n",
              "      <button class=\"colab-df-convert\" onclick=\"convertToInteractive('df-bccbd006-b3bb-46bf-a56e-1c110a8d9dbf')\"\n",
              "              title=\"Convert this dataframe to an interactive table.\"\n",
              "              style=\"display:none;\">\n",
              "        \n",
              "  <svg xmlns=\"http://www.w3.org/2000/svg\" height=\"24px\"viewBox=\"0 0 24 24\"\n",
              "       width=\"24px\">\n",
              "    <path d=\"M0 0h24v24H0V0z\" fill=\"none\"/>\n",
              "    <path d=\"M18.56 5.44l.94 2.06.94-2.06 2.06-.94-2.06-.94-.94-2.06-.94 2.06-2.06.94zm-11 1L8.5 8.5l.94-2.06 2.06-.94-2.06-.94L8.5 2.5l-.94 2.06-2.06.94zm10 10l.94 2.06.94-2.06 2.06-.94-2.06-.94-.94-2.06-.94 2.06-2.06.94z\"/><path d=\"M17.41 7.96l-1.37-1.37c-.4-.4-.92-.59-1.43-.59-.52 0-1.04.2-1.43.59L10.3 9.45l-7.72 7.72c-.78.78-.78 2.05 0 2.83L4 21.41c.39.39.9.59 1.41.59.51 0 1.02-.2 1.41-.59l7.78-7.78 2.81-2.81c.8-.78.8-2.07 0-2.86zM5.41 20L4 18.59l7.72-7.72 1.47 1.35L5.41 20z\"/>\n",
              "  </svg>\n",
              "      </button>\n",
              "      \n",
              "  <style>\n",
              "    .colab-df-container {\n",
              "      display:flex;\n",
              "      flex-wrap:wrap;\n",
              "      gap: 12px;\n",
              "    }\n",
              "\n",
              "    .colab-df-convert {\n",
              "      background-color: #E8F0FE;\n",
              "      border: none;\n",
              "      border-radius: 50%;\n",
              "      cursor: pointer;\n",
              "      display: none;\n",
              "      fill: #1967D2;\n",
              "      height: 32px;\n",
              "      padding: 0 0 0 0;\n",
              "      width: 32px;\n",
              "    }\n",
              "\n",
              "    .colab-df-convert:hover {\n",
              "      background-color: #E2EBFA;\n",
              "      box-shadow: 0px 1px 2px rgba(60, 64, 67, 0.3), 0px 1px 3px 1px rgba(60, 64, 67, 0.15);\n",
              "      fill: #174EA6;\n",
              "    }\n",
              "\n",
              "    [theme=dark] .colab-df-convert {\n",
              "      background-color: #3B4455;\n",
              "      fill: #D2E3FC;\n",
              "    }\n",
              "\n",
              "    [theme=dark] .colab-df-convert:hover {\n",
              "      background-color: #434B5C;\n",
              "      box-shadow: 0px 1px 3px 1px rgba(0, 0, 0, 0.15);\n",
              "      filter: drop-shadow(0px 1px 2px rgba(0, 0, 0, 0.3));\n",
              "      fill: #FFFFFF;\n",
              "    }\n",
              "  </style>\n",
              "\n",
              "      <script>\n",
              "        const buttonEl =\n",
              "          document.querySelector('#df-bccbd006-b3bb-46bf-a56e-1c110a8d9dbf button.colab-df-convert');\n",
              "        buttonEl.style.display =\n",
              "          google.colab.kernel.accessAllowed ? 'block' : 'none';\n",
              "\n",
              "        async function convertToInteractive(key) {\n",
              "          const element = document.querySelector('#df-bccbd006-b3bb-46bf-a56e-1c110a8d9dbf');\n",
              "          const dataTable =\n",
              "            await google.colab.kernel.invokeFunction('convertToInteractive',\n",
              "                                                     [key], {});\n",
              "          if (!dataTable) return;\n",
              "\n",
              "          const docLinkHtml = 'Like what you see? Visit the ' +\n",
              "            '<a target=\"_blank\" href=https://colab.research.google.com/notebooks/data_table.ipynb>data table notebook</a>'\n",
              "            + ' to learn more about interactive tables.';\n",
              "          element.innerHTML = '';\n",
              "          dataTable['output_type'] = 'display_data';\n",
              "          await google.colab.output.renderOutput(dataTable, element);\n",
              "          const docLink = document.createElement('div');\n",
              "          docLink.innerHTML = docLinkHtml;\n",
              "          element.appendChild(docLink);\n",
              "        }\n",
              "      </script>\n",
              "    </div>\n",
              "  </div>\n",
              "  "
            ]
          },
          "metadata": {},
          "execution_count": 38
        }
      ]
    },
    {
      "cell_type": "code",
      "source": [
        "\n",
        "for i in range()"
      ],
      "metadata": {
        "id": "tWqlsyOTg5Io"
      },
      "execution_count": null,
      "outputs": []
    }
  ]
}